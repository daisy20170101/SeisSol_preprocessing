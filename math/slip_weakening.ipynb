{
 "cells": [
  {
   "cell_type": "markdown",
   "id": "8dad49ef-d181-4530-aef5-dac899777f42",
   "metadata": {},
   "source": [
    "# Estimate slip weakening distance and peak friction coefficient\n",
    "### 24 Jan. 2024"
   ]
  },
  {
   "cell_type": "code",
   "execution_count": 2,
   "id": "ca8ebaf0-6f6d-4526-afb7-992663b54756",
   "metadata": {},
   "outputs": [],
   "source": [
    "# estimate f_pk peak RSF friction coefficient using Garagash 2021 resolution\n",
    "import numpy as np"
   ]
  },
  {
   "cell_type": "markdown",
   "id": "2b0581bb-4e21-49f2-a173-be8bb1b3e17b",
   "metadata": {},
   "source": [
    "## based on D. Garagash 2021\n",
    "### 1) $\\Delta f_p = \\Delta f_0 + b \\ln (v_r/v_0)$\n",
    "### 2) $f_p = f_0 + a \\ln (v_r/v_0)$\n",
    "### 3) $D_c/L = 0.5 \\Delta f_p/ b$ where $L = D_{rs}$"
   ]
  },
  {
   "cell_type": "code",
   "execution_count": 17,
   "id": "91236c97-1d52-49f2-9a1a-9150559c8f9c",
   "metadata": {},
   "outputs": [
    {
     "name": "stdout",
     "output_type": "stream",
     "text": [
      "estimate $\\Delta f_p$= 0.62\n",
      "D_c = 5.786666666666666  m\n"
     ]
    }
   ],
   "source": [
    "# calculate peak friction coefficient and slip weakening rate (W according to (Uenishi & Rice, 2003; ))\n",
    "\n",
    "f0 = 0.6\n",
    "a = 0.01\n",
    "b = 0.0135\n",
    "vr = 10e-7\n",
    "v0 = 10e-9\n",
    "\n",
    "fpk = f0 + a *np.log10(vr/v0)\n",
    "fss = f0 + (a-b) *np.log10(vr/v0)\n",
    "\n",
    "print( 'estimate $\\Delta f_p$=', fpk)\n",
    "\n",
    "d_rs = 0.252\n",
    "L_dy = 0.252\n",
    "L_sse = 0.0108\n",
    "sigma = 50.0\n",
    "\n",
    "# considering (3) Dc/L = 0.5 Deltafp/b\n",
    "\n",
    "d_c = L_dy*(0.5*fpk/b)\n",
    "print('D_c =', d_c, ' m')\n",
    "\n",
    "# using balancing slip weakening rate\n",
    "# W=delta_fp /L_rs\n"
   ]
  },
  {
   "cell_type": "markdown",
   "id": "7a0b1c2d-ff27-4477-8d7f-16c12c16dcd2",
   "metadata": {},
   "source": [
    "# 0. According to Uenishi & Rice (2003)\n",
    "## the slip weakening rate can be defined as:\n",
    "### for LSW： $W^{LSW} = \\Delta \\tau / d_c $ (section 5.1 first paragraph)\n",
    "### for RSF: $W^{RSF} = b \\sigma/ L_{rs} $ (below EQ. 18)"
   ]
  },
  {
   "cell_type": "code",
   "execution_count": 23,
   "id": "72598752-f44d-4f74-8a74-d0bcf6ed5a73",
   "metadata": {},
   "outputs": [
    {
     "name": "stdout",
     "output_type": "stream",
     "text": [
      "slip weakending rate in RSF: 2.678571428571429  MPa/m\n",
      "equivalent slip distance of RSF: 1.455999999999999  m\n"
     ]
    }
   ],
   "source": [
    "# calcuate the slip weakening rate for each:\n",
    "\n",
    "# W1 = (mus-mud)*sigma/dc\n",
    "# thus:\n",
    "mus=0.626\n",
    "mud=0.548\n",
    "\n",
    "W2 = b*sigma/L_dy\n",
    "\n",
    "d_c = ((mus-mud)*sigma)/W2\n",
    "            \n",
    "print('slip weakending rate in RSF:', W2 , ' MPa/m')\n",
    "print('equivalent slip distance of RSF:',d_c,' m')\n",
    "\n",
    "# the ratio between Dc_ and D_rs\n",
    "# print('the ratio between Dc and Drs is:', d_c/0.252 )\n",
    "# print('the ratio used in our model is:', 0.05/0.252)"
   ]
  },
  {
   "cell_type": "code",
   "execution_count": 24,
   "id": "3e93d13c-8875-49b8-a603-e281fc1b5712",
   "metadata": {},
   "outputs": [
    {
     "name": "stdout",
     "output_type": "stream",
     "text": [
      "slip weakending rate in LSW: 77.99999999999994  MPa/m\n",
      "slip weakending rate in RSF: 2.678571428571429  MPa/m\n"
     ]
    }
   ],
   "source": [
    "# taking our d_c we get a slip weakenig rate of:\n",
    "\n",
    "d_c_draft  =0.05\n",
    "W1 = (mus-mud)*sigma/d_c_draft\n",
    "\n",
    "print('slip weakending rate in LSW:', W1 , ' MPa/m')\n",
    "print('slip weakending rate in RSF:', W2 , ' MPa/m')\n"
   ]
  },
  {
   "cell_type": "markdown",
   "id": "733aa173-dc0f-406e-9714-b26a23a028d2",
   "metadata": {},
   "source": [
    "# 1. Dependence of nucleation size"
   ]
  },
  {
   "cell_type": "code",
   "execution_count": null,
   "id": "8ddfcdc8-fe7f-49ba-89a3-71272790665a",
   "metadata": {},
   "outputs": [],
   "source": []
  },
  {
   "cell_type": "code",
   "execution_count": null,
   "id": "7b84091b-db19-4653-ba6c-de613a6dd617",
   "metadata": {},
   "outputs": [],
   "source": []
  }
 ],
 "metadata": {
  "kernelspec": {
   "display_name": "Python 3 (ipykernel)",
   "language": "python",
   "name": "python3"
  },
  "language_info": {
   "codemirror_mode": {
    "name": "ipython",
    "version": 3
   },
   "file_extension": ".py",
   "mimetype": "text/x-python",
   "name": "python",
   "nbconvert_exporter": "python",
   "pygments_lexer": "ipython3",
   "version": "3.9.18"
  }
 },
 "nbformat": 4,
 "nbformat_minor": 5
}
