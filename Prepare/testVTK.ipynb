{
 "cells": [
  {
   "cell_type": "markdown",
   "id": "8c356e30-b78c-44c6-9942-762bd617a489",
   "metadata": {},
   "source": [
    "## Create Paraview Visualisation files\n",
    "### 9 Feb. 2024"
   ]
  },
  {
   "cell_type": "code",
   "execution_count": 21,
   "id": "7295565e-b334-4370-ac78-42553113b1fd",
   "metadata": {
    "scrolled": true
   },
   "outputs": [
    {
     "ename": "ModuleNotFoundError",
     "evalue": "No module named 'cmocean'",
     "output_type": "error",
     "traceback": [
      "\u001b[0;31m---------------------------------------------------------------------------\u001b[0m",
      "\u001b[0;31mModuleNotFoundError\u001b[0m                       Traceback (most recent call last)",
      "Cell \u001b[0;32mIn[21], line 2\u001b[0m\n\u001b[1;32m      1\u001b[0m \u001b[38;5;66;03m# from FaultPlaneWrite.FaultPlaneWrite import FaultPlane\u001b[39;00m\n\u001b[0;32m----> 2\u001b[0m \u001b[38;5;28;01mimport\u001b[39;00m \u001b[38;5;21;01mcmocean\u001b[39;00m \u001b[38;5;28;01mas\u001b[39;00m \u001b[38;5;21;01mcm\u001b[39;00m\n",
      "\u001b[0;31mModuleNotFoundError\u001b[0m: No module named 'cmocean'"
     ]
    }
   ],
   "source": [
    "# from FaultPlaneWrite.FaultPlaneWrite import FaultPlane\n",
    "import cmocean as cm"
   ]
  },
  {
   "cell_type": "code",
   "execution_count": 19,
   "id": "0c7ab94d-207f-47c5-9004-4ff8ffb3e35b",
   "metadata": {},
   "outputs": [
    {
     "name": "stdout",
     "output_type": "stream",
     "text": [
      "(2, 38487)\n"
     ]
    },
    {
     "name": "stderr",
     "output_type": "stream",
     "text": [
      "/Users/duoli/anaconda3/envs/py39/lib/python3.9/site-packages/pyproj/crs/crs.py:141: FutureWarning: '+init=<authority>:<code>' syntax is deprecated. '<authority>:<code>' is the preferred initialization method. When making the change, be mindful of axis order changes: https://pyproj4.github.io/pyproj/stable/gotchas.html#axis-order-changes-in-proj-6\n",
      "  in_crs_string = _prepare_from_proj_string(in_crs_string)\n",
      "/var/folders/w1/_6wbwxqn58j2p6t9v4n73wcr0000gn/T/ipykernel_57415/3983096408.py:30: FutureWarning: This function is deprecated. See: https://pyproj4.github.io/pyproj/stable/gotchas.html#upgrading-to-pyproj-2-from-pyproj-1\n",
      "  dd = pyproj.transform(lla, myproj,lon1,lat1, radians=False);\n"
     ]
    }
   ],
   "source": [
    "# create and save Coastline data for North/south island\n",
    "import scipy.io\n",
    "import pyproj\n",
    "import numpy as np\n",
    "import matplotlib.pyplot as plt\n",
    "\n",
    "mat = scipy.io.loadmat('/Users/duoli/Documents/SeisSol/NewZealand/NZcoast.mat')\n",
    "mat.keys()\n",
    "\n",
    "table = mat['S']\n",
    "\n",
    "min_lat = -40.4\n",
    "max_lat = -41.5\n",
    "max_lon = 175.5\n",
    "min_lon = 173\n",
    "\n",
    "table1 = table[1]\n",
    "\n",
    "# table_selc = table1[(table1['Lon']>min_lon )& (table1['Lon']<max_lon) & (table1['Lat']>min_lat )& (table1['Lat']<max_lat)]\n",
    "# print(lon1, lat1)\n",
    "\n",
    "lon1 = table1['Lon'][0]\n",
    "lat1 = table1['Lat'][0]\n",
    "\n",
    "# UTM projection\n",
    "lla = pyproj.Proj(proj='latlong', ellps='WGS84', datum='WGS84');\n",
    "myproj = pyproj.Proj(init='epsg:2193', datum='WGS84');  # NZTM2000\n",
    "# myproj = pyproj.Proj(init='epsg:3994', datum='WGS84');\n",
    "\n",
    "dd = pyproj.transform(lla, myproj,lon1,lat1, radians=False);\n",
    "\n",
    "xyarr =np.array([np.array(dd[0]).transpose(),np.array(dd[1]).transpose()])\n",
    "xyarr1 = xyarr[:,:,0]\n",
    "print(xyarr1.shape)\n",
    "\n",
    "# save data\n",
    "# np.save('/Users/duoli/Documents/SeisSol/NewZealand/NorthCoast.npy',xyarr1)\n"
   ]
  },
  {
   "cell_type": "code",
   "execution_count": null,
   "id": "6a4026d0-6855-4430-99e9-e898ddb54008",
   "metadata": {},
   "outputs": [],
   "source": [
    "# plt.figure();\n",
    "# plt.plot(dd[0][::10],dd[1][::10],'-k');\n",
    "# # plt.show()\n",
    "# plt.savefig('CoastLine.png')\n",
    "\n",
    "\n"
   ]
  },
  {
   "cell_type": "code",
   "execution_count": null,
   "id": "35b13548-442f-485f-8df4-72b0a5df072b",
   "metadata": {},
   "outputs": [],
   "source": [
    "import meshio\n",
    "\n",
    "xx = dd[0][::100]\n",
    "yy = dd[1][::100]\n",
    "\n",
    "outprefix = 'coastline'\n",
    "\n",
    "meshio.write(\n",
    "        outprefix + \".vtk\",  # str, os.PathLike, or buffer/ open file\n",
    "        mesh,\n",
    "        file_format=\"vtk\",  # optional if first argument is a path; inferred from extension\n",
    "    )"
   ]
  },
  {
   "cell_type": "code",
   "execution_count": 11,
   "id": "902e0ebf-4642-49a0-9948-ee1e7675f10a",
   "metadata": {},
   "outputs": [
    {
     "ename": "ModuleNotFoundError",
     "evalue": "No module named 'evtk'",
     "output_type": "error",
     "traceback": [
      "\u001b[0;31m---------------------------------------------------------------------------\u001b[0m",
      "\u001b[0;31mModuleNotFoundError\u001b[0m                       Traceback (most recent call last)",
      "Cell \u001b[0;32mIn[11], line 1\u001b[0m\n\u001b[0;32m----> 1\u001b[0m \u001b[38;5;28;01mfrom\u001b[39;00m \u001b[38;5;21;01mevtk\u001b[39;00m\u001b[38;5;21;01m.\u001b[39;00m\u001b[38;5;21;01mhl\u001b[39;00m \u001b[38;5;28;01mimport\u001b[39;00m pointsToVTK \n\u001b[1;32m      3\u001b[0m \u001b[38;5;66;03m# Dimensions \u001b[39;00m\n\u001b[1;32m      4\u001b[0m \u001b[38;5;66;03m# nx, ny, nz = 6, 6, 2 \u001b[39;00m\n\u001b[1;32m      5\u001b[0m \u001b[38;5;66;03m# ncells = nx * ny * nz \u001b[39;00m\n\u001b[0;32m   (...)\u001b[0m\n\u001b[1;32m     10\u001b[0m \u001b[38;5;66;03m# temp = np.random.rand(npoints).reshape( (nx + 1, ny + 1, nz + 1))\u001b[39;00m\n\u001b[1;32m     11\u001b[0m \u001b[38;5;66;03m# imageToVTK(\"./image\", cellData = {\"pressure\" : pressure}, pointData = {\"temp\" : temp} )\u001b[39;00m\n\u001b[1;32m     14\u001b[0m xyarr \u001b[38;5;241m=\u001b[39m np\u001b[38;5;241m.\u001b[39mload(\u001b[38;5;124m'\u001b[39m\u001b[38;5;124m/Users/duoli/Documents/SeisSol/NewZealand/NorthCoast.npy\u001b[39m\u001b[38;5;124m'\u001b[39m)\n",
      "\u001b[0;31mModuleNotFoundError\u001b[0m: No module named 'evtk'"
     ]
    }
   ],
   "source": [
    "from evtk.hl import pointsToVTK \n",
    "\n",
    "# Dimensions \n",
    "# nx, ny, nz = 6, 6, 2 \n",
    "# ncells = nx * ny * nz \n",
    "# npoints = (nx + 1) * (ny + 1) * (nz + 1) \n",
    "\n",
    "# Variables \n",
    "# pressure = np.random.rand(ncells).reshape( (nx, ny, nz), order = 'C') \n",
    "# temp = np.random.rand(npoints).reshape( (nx + 1, ny + 1, nz + 1))\n",
    "# imageToVTK(\"./image\", cellData = {\"pressure\" : pressure}, pointData = {\"temp\" : temp} )\n",
    "\n",
    "\n",
    "xyarr = np.load('/Users/duoli/Documents/SeisSol/NewZealand/NorthCoast.npy')\n",
    "print(xyarr.shape)"
   ]
  },
  {
   "cell_type": "code",
   "execution_count": null,
   "id": "95254903-aa16-45f2-a946-49f0c152ce7c",
   "metadata": {},
   "outputs": [],
   "source": []
  }
 ],
 "metadata": {
  "kernelspec": {
   "display_name": "Python 3 (ipykernel)",
   "language": "python",
   "name": "python3"
  },
  "language_info": {
   "codemirror_mode": {
    "name": "ipython",
    "version": 3
   },
   "file_extension": ".py",
   "mimetype": "text/x-python",
   "name": "python",
   "nbconvert_exporter": "python",
   "pygments_lexer": "ipython3",
   "version": "3.9.18"
  }
 },
 "nbformat": 4,
 "nbformat_minor": 5
}
